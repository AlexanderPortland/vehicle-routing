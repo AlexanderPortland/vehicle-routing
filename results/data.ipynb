{
 "cells": [
  {
   "cell_type": "code",
   "execution_count": 2,
   "id": "8e1e51a9",
   "metadata": {},
   "outputs": [
    {
     "name": "stdout",
     "output_type": "stream",
     "text": [
      "74017.55947127401\n"
     ]
    }
   ],
   "source": [
    "import json\n",
    "\n",
    "with open(\"./best-remove-best-insert-15.log\", \"r\") as f:\n",
    "    data = f.read()\n",
    "\n",
    "score = 0\n",
    "for l in data.splitlines():\n",
    "    instance_res = json.loads(l)\n",
    "    score += instance_res[\"Result\"]\n",
    "\n",
    "print(score)"
   ]
  },
  {
   "cell_type": "code",
   "execution_count": 3,
   "id": "fa756ec0",
   "metadata": {},
   "outputs": [
    {
     "name": "stdout",
     "output_type": "stream",
     "text": [
      "78213.81\n"
     ]
    }
   ],
   "source": [
    "import json\n",
    "\n",
    "with open(\"./random-remove-and-random-insert-15.log\", \"r\") as f:\n",
    "    data = f.read()\n",
    "\n",
    "score = 0\n",
    "for l in data.splitlines():\n",
    "    instance_res = json.loads(l)\n",
    "    score += instance_res[\"Result\"]\n",
    "\n",
    "print(score)"
   ]
  },
  {
   "cell_type": "code",
   "execution_count": 5,
   "id": "e7ca02a3",
   "metadata": {},
   "outputs": [
    {
     "name": "stdout",
     "output_type": "stream",
     "text": [
      "73154.92219888757\n"
     ]
    }
   ],
   "source": [
    "import json\n",
    "\n",
    "with open(\"./best-remove-best-insert-15.log\", \"r\") as f:\n",
    "    best_data = f.read()\n",
    "\n",
    "with open(\"./random-remove-and-random-insert-15.log\", \"r\") as f:\n",
    "    random_data = f.read()\n",
    "\n",
    "score = 0\n",
    "for bl, rl in zip(best_data.splitlines(), random_data.splitlines()):\n",
    "    bl_res = json.loads(bl)\n",
    "    rl_res = json.loads(rl)\n",
    "    score += min(bl_res[\"Result\"], rl_res[\"Result\"])\n",
    "\n",
    "print(score)"
   ]
  },
  {
   "cell_type": "code",
   "execution_count": null,
   "id": "76c17835",
   "metadata": {},
   "outputs": [],
   "source": []
  }
 ],
 "metadata": {
  "kernelspec": {
   "display_name": "prescriptive",
   "language": "python",
   "name": "python3"
  },
  "language_info": {
   "codemirror_mode": {
    "name": "ipython",
    "version": 3
   },
   "file_extension": ".py",
   "mimetype": "text/x-python",
   "name": "python",
   "nbconvert_exporter": "python",
   "pygments_lexer": "ipython3",
   "version": "3.10.16"
  }
 },
 "nbformat": 4,
 "nbformat_minor": 5
}
